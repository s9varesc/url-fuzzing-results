{
 "cells": [
  {
   "cell_type": "markdown",
   "metadata": {},
   "source": [
    "# Experiment Results\n",
    "\n",
    "This page presents the results of a overall runtime of one week for each grammar.\n",
    "\n",
    "## Details\n",
    "\n",
    "- generation of inputs with [tribble](https://github.com/havrikov/tribble/)\n",
    "- inputs generated from two grammars, one based on the current [URL standard](https://url.spec.whatwg.org/), the other one based on the RFC documents [RFC 3986](https://tools.ietf.org/html/rfc3986#appendix-A) and [RFC 6874](https://tools.ietf.org/html/rfc6874)\n",
    "\n",
    "- execution of tests for 11 URL parsers:\n",
    "    - TODO"
   ]
  },
  {
   "cell_type": "code",
   "execution_count": null,
   "metadata": {
    "scrolled": false
   },
   "outputs": [],
   "source": [
    "import sys\n",
    "!{sys.executable} -m pip install pandas markdown matplotlib"
   ]
  },
  {
   "cell_type": "code",
   "execution_count": null,
   "metadata": {
    "scrolled": false
   },
   "outputs": [],
   "source": [
    "import pandas as pd\n",
    "import matplotlib.pyplot as plt\n",
    "\n",
    "ls_df=pd.read_csv(\"./livingstandard/coverages.csv\", index_col='Run')\n",
    "\n",
    "rfc_df=pd.read_csv(\"./rfc/coverages.csv\", index_col='Run')\n",
    "pd.set_option('display.float_format', lambda x: '%.3f' % x)\n",
    "\n",
    "parsers=ls_df.columns.values\n"
   ]
  },
  {
   "cell_type": "markdown",
   "metadata": {},
   "source": [
    "## Living Standard Results\n",
    "\n",
    "### Tabular View"
   ]
  },
  {
   "cell_type": "code",
   "execution_count": null,
   "metadata": {
    "scrolled": false
   },
   "outputs": [],
   "source": [
    "ls_df.head(10)"
   ]
  },
  {
   "cell_type": "code",
   "execution_count": null,
   "metadata": {
    "scrolled": false
   },
   "outputs": [],
   "source": [
    "ls_df.tail(10)"
   ]
  },
  {
   "cell_type": "markdown",
   "metadata": {},
   "source": [
    "### Overview Plot"
   ]
  },
  {
   "cell_type": "code",
   "execution_count": null,
   "metadata": {
    "scrolled": false
   },
   "outputs": [],
   "source": [
    "fig, axs=plt.subplots(figsize=(40,20))\n",
    "plt.rcParams['font.size']='40'\n",
    "plot=ls_df.plot(title=\"Living Standard Coverages Overview\\n\",ylim=(0,100),xlim=(-5,500), ax=axs, style=\"o\")\n",
    "plot.legend(bbox_to_anchor=(1,-0.2),markerscale=7.)\n",
    "plot.grid(True)\n",
    "\n",
    "\n",
    "\n",
    "axs.set_ylabel(\"Coverages\", fontsize=40)\n",
    "axs.set_xlabel(\"Run\", fontsize=40)\n",
    "\n"
   ]
  },
  {
   "cell_type": "markdown",
   "metadata": {},
   "source": [
    "### Detail Plot of the first 100 Runs"
   ]
  },
  {
   "cell_type": "code",
   "execution_count": null,
   "metadata": {
    "scrolled": false
   },
   "outputs": [],
   "source": [
    "fig, axs=plt.subplots(figsize=(40,20))\n",
    "plt.rcParams['font.size']='40'\n",
    "plot=ls_df.plot(title=\"Living Standard Coverages 100 Runs\\n\",ylim=(0,100),xlim=(-5,100), ax=axs, style=\"o\", ms=15)\n",
    "plot.legend(bbox_to_anchor=(1,-0.2),markerscale=2.)\n",
    "plot.grid(True)\n",
    "\n",
    "\n",
    "\n",
    "axs.set_ylabel(\"Coverages\", fontsize=40)\n",
    "axs.set_xlabel(\"Run\", fontsize=40)\n",
    "\n"
   ]
  },
  {
   "cell_type": "markdown",
   "metadata": {},
   "source": [
    "### Statistics"
   ]
  },
  {
   "cell_type": "code",
   "execution_count": null,
   "metadata": {
    "scrolled": false
   },
   "outputs": [],
   "source": [
    "ls_df.describe()"
   ]
  },
  {
   "cell_type": "markdown",
   "metadata": {},
   "source": [
    "## RFC Results\n",
    "\n",
    "### Tabular View"
   ]
  },
  {
   "cell_type": "code",
   "execution_count": null,
   "metadata": {
    "scrolled": false
   },
   "outputs": [],
   "source": [
    "rfc_df.head(10)"
   ]
  },
  {
   "cell_type": "code",
   "execution_count": null,
   "metadata": {
    "scrolled": false
   },
   "outputs": [],
   "source": [
    "rfc_df.tail(10)"
   ]
  },
  {
   "cell_type": "markdown",
   "metadata": {},
   "source": [
    "### Overview Plot"
   ]
  },
  {
   "cell_type": "code",
   "execution_count": null,
   "metadata": {
    "scrolled": false
   },
   "outputs": [],
   "source": [
    "fig, axs=plt.subplots(figsize=(40,20))\n",
    "plt.rcParams['font.size']='40'\n",
    "plot=rfc_df.plot(title=\"RFC Coverages Overview\\n\",ylim=(0,100),xlim=(-5,500), ax=axs, style=\"o\")\n",
    "plot.legend(bbox_to_anchor=(1,-0.2),markerscale=7.)\n",
    "plot.grid(True)\n",
    "\n",
    "\n",
    "\n",
    "axs.set_ylabel(\"Coverages\", fontsize=40)\n",
    "axs.set_xlabel(\"Run\", fontsize=40)"
   ]
  },
  {
   "cell_type": "markdown",
   "metadata": {},
   "source": [
    "### Detail Plot of the first 100 Runs"
   ]
  },
  {
   "cell_type": "code",
   "execution_count": null,
   "metadata": {
    "scrolled": false
   },
   "outputs": [],
   "source": [
    "fig, axs=plt.subplots(figsize=(40,20))\n",
    "plt.rcParams['font.size']='40'\n",
    "plot=rfc_df.plot(title=\"RFC Coverages 100 Runs\\n\",ylim=(0,100),xlim=(-5,100), ax=axs, style=\"o\", ms=15)\n",
    "plot.legend(bbox_to_anchor=(1,-0.2),markerscale=2.)\n",
    "plot.grid(True)\n",
    "\n",
    "\n",
    "\n",
    "axs.set_ylabel(\"Coverages\", fontsize=40)\n",
    "axs.set_xlabel(\"Run\", fontsize=40)\n",
    "\n"
   ]
  },
  {
   "cell_type": "markdown",
   "metadata": {},
   "source": [
    "### Statistics"
   ]
  },
  {
   "cell_type": "code",
   "execution_count": null,
   "metadata": {
    "scrolled": false
   },
   "outputs": [],
   "source": [
    "rfc_df.describe()"
   ]
  },
  {
   "cell_type": "markdown",
   "metadata": {},
   "source": [
    "## Direct Comparison for each used Parser\n"
   ]
  },
  {
   "cell_type": "code",
   "execution_count": null,
   "metadata": {
    "scrolled": false
   },
   "outputs": [],
   "source": [
    "from IPython.display import display, Markdown\n",
    "def compareGrammarResults(parser, df1, newcolumn1, df2, newcolumn2):\n",
    "    display(Markdown(\"### \"+parser.capitalize()))\n",
    "    fig, axs=plt.subplots(figsize=(40,20))\n",
    "    plt.rcParams['font.size']='40'\n",
    "\n",
    "    new_df=pd.DataFrame()\n",
    "    new_df[newcolumn1]=df1[parser]\n",
    "    new_df[newcolumn2]=df2[parser]\n",
    "\n",
    "    plot=new_df.plot(title=parser.capitalize()+\" Coverages\\n\",ylim=(0,100),xlim=(-5,500), ax=axs, style=\"o\", ms=15)\n",
    "\n",
    "    plot.grid(True)\n",
    "    plot.legend(loc='best',markerscale=2.)\n",
    "\n",
    "    axs.set_ylabel(\"Coverages\", fontsize=40)\n",
    "    axs.set_xlabel(\"Run\", fontsize=40)\n",
    "\n",
    "    plt.show()\n",
    "    display(new_df.describe())\n",
    "\n",
    "    print(newcolumn1+\" Max Coverage: \"+str(new_df[newcolumn1].max()))\n",
    "    print(newcolumn1+\" Max Coverage reached in: run \"+str(new_df[newcolumn1].idxmax()))\n",
    "    print(newcolumn2+\" Max Coverage: \"+str(new_df[newcolumn2].max()))\n",
    "    print(newcolumn2+\" Coverage reached in: run \"+str(new_df[newcolumn2].idxmax()))\n",
    "    return new_df\n"
   ]
  },
  {
   "cell_type": "code",
   "execution_count": null,
   "metadata": {
    "scrolled": false
   },
   "outputs": [],
   "source": [
    "dfs={}\n",
    "\n",
    "for parser in parsers:\n",
    "    dfs[parser]=compareGrammarResults(parser, ls_df, \"Living Standard\", rfc_df, \"RFC\")\n",
    "\n",
    "\n"
   ]
  }
 ],
 "metadata": {
  "kernelspec": {
   "display_name": "Python 3",
   "language": "python",
   "name": "python3"
  },
  "language_info": {
   "codemirror_mode": {
    "name": "ipython",
    "version": 3
   },
   "file_extension": ".py",
   "mimetype": "text/x-python",
   "name": "python",
   "nbconvert_exporter": "python",
   "pygments_lexer": "ipython3",
   "version": "3.7.0"
  }
 },
 "nbformat": 4,
 "nbformat_minor": 2
}
